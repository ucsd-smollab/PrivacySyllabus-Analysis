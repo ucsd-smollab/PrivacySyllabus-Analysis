{
  "nbformat": 4,
  "nbformat_minor": 0,
  "metadata": {
    "colab": {
      "provenance": []
    },
    "kernelspec": {
      "name": "python3",
      "display_name": "Python 3"
    },
    "language_info": {
      "name": "python"
    }
  },
  "cells": [
    {
      "cell_type": "code",
      "execution_count": 1,
      "metadata": {
        "id": "83o-FxTH3yih"
      },
      "outputs": [],
      "source": [
        "import pandas as pd"
      ]
    },
    {
      "cell_type": "code",
      "source": [
        "all_universities = pd.read_csv(\"/content/all-university-dataset.csv\")"
      ],
      "metadata": {
        "id": "tDpZ5SV49Ad8"
      },
      "execution_count": 2,
      "outputs": []
    },
    {
      "cell_type": "code",
      "source": [
        "alluniversityToCategory = {}\n",
        "for i, row in all_universities.iterrows():\n",
        "  alluniversityToCategory[row[\"name\"].strip()] = row[\"Classification\"]\n"
      ],
      "metadata": {
        "id": "WeYfXthH_eTK"
      },
      "execution_count": 3,
      "outputs": []
    },
    {
      "cell_type": "code",
      "source": [
        "print(\"No of universities = \", len(all_universities))\n",
        "print(\"No of unique universities = \", len(set(alluniversityToCategory.keys())))"
      ],
      "metadata": {
        "colab": {
          "base_uri": "https://localhost:8080/"
        },
        "id": "Jjuv2-oOvCiA",
        "outputId": "898f6ed3-0d18-49dc-b9b3-12c312f1a27a"
      },
      "execution_count": 4,
      "outputs": [
        {
          "output_type": "stream",
          "name": "stdout",
          "text": [
            "No of universities =  2894\n",
            "No of unique universities =  2759\n"
          ]
        }
      ]
    },
    {
      "cell_type": "code",
      "source": [
        "privacyUniversityToCategory = {}\n",
        "privacy_courses_universities = pd.read_csv(\"/content/UniversitiesWithPrivacyCourses.csv\")\n",
        "\n",
        "for i, row in privacy_courses_universities.iterrows():\n",
        "  try:\n",
        "    privacyUniversityToCategory[row[\"University Name\"].strip()] = alluniversityToCategory[row[\"University Name\"]]\n",
        "  except KeyError:\n",
        "    print(i, row)\n"
      ],
      "metadata": {
        "colab": {
          "base_uri": "https://localhost:8080/"
        },
        "id": "QBo3PKUQ9jgQ",
        "outputId": "d17ef85b-913e-4877-ec14-f4eb6821f73e"
      },
      "execution_count": 5,
      "outputs": [
        {
          "output_type": "stream",
          "name": "stdout",
          "text": [
            "543 University Name    Western University\n",
            "Name: 543, dtype: object\n"
          ]
        }
      ]
    },
    {
      "cell_type": "code",
      "source": [
        "noPrivacyUniversityToCategory = {}\n",
        "no_privacy_courses_universities = pd.read_csv(\"/content/UniversitiesWithNoPrivacyCourses.csv\")\n",
        "\n",
        "for i, row in no_privacy_courses_universities.iterrows():\n",
        "  try:\n",
        "    noPrivacyUniversityToCategory[row[\"University Name\"].strip()] = alluniversityToCategory[row[\"University Name\"]]\n",
        "  except KeyError:\n",
        "    print(i, row)"
      ],
      "metadata": {
        "id": "a1tOGNcA9oJA"
      },
      "execution_count": 6,
      "outputs": []
    },
    {
      "cell_type": "code",
      "source": [
        "uniquePrivacyUniversities = set(privacyUniversityToCategory.keys())\n",
        "\n",
        "uniqueNoPrivacyUniversities = set(noPrivacyUniversityToCategory.keys())\n",
        "\n",
        "print(\"# of uniquePrivacyUniversities : \", len(uniquePrivacyUniversities))\n",
        "print(\"# of uniqueNoPrivacyUniversities : \", len(uniqueNoPrivacyUniversities))"
      ],
      "metadata": {
        "colab": {
          "base_uri": "https://localhost:8080/"
        },
        "id": "-hdYlqb--G28",
        "outputId": "4a929132-9a68-4eeb-e862-0a8326fc9c74"
      },
      "execution_count": 7,
      "outputs": [
        {
          "output_type": "stream",
          "name": "stdout",
          "text": [
            "# of uniquePrivacyUniversities :  542\n",
            "# of uniqueNoPrivacyUniversities :  1046\n"
          ]
        }
      ]
    },
    {
      "cell_type": "code",
      "source": [
        "#Any intersection or overlap\n",
        "print(uniqueNoPrivacyUniversities.intersection(uniquePrivacyUniversities))\n",
        "print(uniquePrivacyUniversities.intersection(uniqueNoPrivacyUniversities))"
      ],
      "metadata": {
        "colab": {
          "base_uri": "https://localhost:8080/"
        },
        "id": "8aDbEeylEq_t",
        "outputId": "d530897f-4399-4fab-a000-ad64abedc171"
      },
      "execution_count": 8,
      "outputs": [
        {
          "output_type": "stream",
          "name": "stdout",
          "text": [
            "set()\n",
            "set()\n"
          ]
        }
      ]
    },
    {
      "cell_type": "code",
      "source": [
        "syllabusToCategory = {}\n",
        "syllabus_data = pd.read_csv(\"/content/SyllabusData.csv\")\n",
        "\n",
        "for i, row in syllabus_data.iterrows():\n",
        "  try:\n",
        "    syllabusToCategory[row[\"University\"].strip()] = alluniversityToCategory[row[\"University\"]]\n",
        "  except KeyError:\n",
        "    print(i, row)"
      ],
      "metadata": {
        "id": "WTR4Tm6-XNJl"
      },
      "execution_count": 9,
      "outputs": []
    },
    {
      "cell_type": "code",
      "source": [
        "instructorToCategory = {}\n",
        "instructor_data = pd.read_csv(\"/content/InstructorData.csv\")\n",
        "instructor_not_found = {}\n",
        "\n",
        "for i, row in instructor_data.iterrows():\n",
        "  try:\n",
        "    instructorToCategory[row[\"University Name\"].strip()] = alluniversityToCategory[row[\"University Name\"].strip()]\n",
        "  except KeyError:\n",
        "    print(row[\"University Name\"])\n",
        "  try:\n",
        "    if(len(str(row[\"Instructor Name\"])) <= 5 and len(str(row[\"Instructor Email\"])) <= 5 and len(str(row[\"Alternate Person Name (Department Head/Dept Chair)\"])) <= 5 and len(str(row[\"Alternate Email (Department Head/Dept Chair)\"])) <= 5):\n",
        "      instructor_not_found[row[\"University Name\"].strip()] = alluniversityToCategory[row[\"University Name\"].strip()]\n",
        "  except TypeError:\n",
        "    print(row)\n",
        "\n"
      ],
      "metadata": {
        "colab": {
          "base_uri": "https://localhost:8080/"
        },
        "id": "oAAAPjhUbse9",
        "outputId": "1f713130-e55d-4775-f724-dc63d15c4a49"
      },
      "execution_count": 10,
      "outputs": [
        {
          "output_type": "stream",
          "name": "stdout",
          "text": [
            "Western University\n"
          ]
        }
      ]
    },
    {
      "cell_type": "code",
      "source": [
        "print(\"# of universities with Instructor data not found = \", len(instructor_not_found))\n",
        "print(\"# of universities with Instructor data found = \", len(uniquePrivacyUniversities) - len(instructor_not_found))\n",
        "print(\"# of universities with syllabus received = \", len(set(syllabusToCategory.keys())))"
      ],
      "metadata": {
        "colab": {
          "base_uri": "https://localhost:8080/"
        },
        "id": "_yvGwTNAfnpb",
        "outputId": "27caedb0-be9d-4d8f-c704-bec00b6d1023"
      },
      "execution_count": 11,
      "outputs": [
        {
          "output_type": "stream",
          "name": "stdout",
          "text": [
            "# of universities with Instructor data not found =  64\n",
            "# of universities with Instructor data found =  478\n",
            "# of universities with syllabus received =  95\n"
          ]
        }
      ]
    },
    {
      "cell_type": "code",
      "source": [
        "def count_keys_with_value(d, target_value):\n",
        "    return sum(1 for key, value in d.items() if value == target_value)"
      ],
      "metadata": {
        "id": "K-SAnpQ8o7Ph"
      },
      "execution_count": 12,
      "outputs": []
    },
    {
      "cell_type": "markdown",
      "source": [
        "All universities"
      ],
      "metadata": {
        "id": "JBasg-X-wSnF"
      }
    },
    {
      "cell_type": "code",
      "source": [
        "all_count_R1 = count_keys_with_value(alluniversityToCategory, \"Doctoral-R1\")\n",
        "print(\"Doctoral-R1 : \", all_count_R1)\n",
        "all_count_R2 = count_keys_with_value(alluniversityToCategory, \"Doctoral-R2\")\n",
        "print(\"Doctoral-R2 : \", all_count_R2)\n",
        "all_count_DPU = count_keys_with_value(alluniversityToCategory, \"Doctoral-D/PU\")\n",
        "print(\"Doctoral-D/PU : \", all_count_DPU)\n",
        "\n",
        "\n",
        "all_count_M1 = count_keys_with_value(alluniversityToCategory, \"MastersCollegesAndUniversities-M1\")\n",
        "all_count_M2 = count_keys_with_value(alluniversityToCategory, \"MastersCollegesAndUniversities-M2\")\n",
        "all_count_M3 = count_keys_with_value(alluniversityToCategory, \"MastersCollegesAndUniversities-M3\")\n",
        "all_count_M = all_count_M1 + all_count_M2 + all_count_M3\n",
        "\n",
        "print(\"Masters : \", all_count_M)\n",
        "\n",
        "all_count_B1 = count_keys_with_value(alluniversityToCategory, \"Baccalaureate-ArtsAndSciences\")\n",
        "all_count_B2 = count_keys_with_value(alluniversityToCategory, \"Baccalaureate-DiverseFields\")\n",
        "all_count_B = all_count_B1+ all_count_B2\n",
        "\n",
        "print(\"Baccalaureate : \", all_count_B)\n",
        "\n",
        "all_count_BA1 = count_keys_with_value(alluniversityToCategory, \"Baccalaureate/Associates-MixedBaccalaureate/Associates\")\n",
        "all_count_BA2 = count_keys_with_value(alluniversityToCategory, \"Baccalaureate/Associates-AssociatesDominant\")\n",
        "all_count_BA = all_count_BA1+ all_count_BA2\n",
        "\n",
        "print(\"Baccalaureate/Associates : \", all_count_BA)\n",
        "\n",
        "all_count_A1 = count_keys_with_value(alluniversityToCategory, \"Associates-HighTransfer-HighTraditional\")\n",
        "all_count_A2 = count_keys_with_value(alluniversityToCategory, \"Associates-HighTransfer-MixedTraditional/Nontraditional\")\n",
        "all_count_A3 = count_keys_with_value(alluniversityToCategory, \"Associates-HighTransfer-HighNontraditional\")\n",
        "all_count_A4 = count_keys_with_value(alluniversityToCategory, \"Associates-MixedTransfer/Career&Technical-HighTraditional\")\n",
        "all_count_A5 = count_keys_with_value(alluniversityToCategory, \"Associates-MixedTransfer/Career&Technical-MixedTraditional/Nontraditional\")\n",
        "all_count_A6 = count_keys_with_value(alluniversityToCategory, \"Associates-MixedTransfer/Career&Technical-HighNontraditional\")\n",
        "all_count_A = all_count_A1+ all_count_A2 + all_count_A3 + all_count_A4 + all_count_A5 + all_count_A6\n",
        "\n",
        "print(\"Associates : \", all_count_A)\n",
        "\n",
        "all_count_SF1 = count_keys_with_value(alluniversityToCategory, \"SpecialFocus-TwoYear-TechProfessions\")\n",
        "all_count_SF2 = count_keys_with_value(alluniversityToCategory, \"SpecialFocus-TwoYear-OtherFields\")\n",
        "all_count_SF3 = count_keys_with_value(alluniversityToCategory, \"SpecialFocus-FourYear-ResearchInstitution\")\n",
        "all_count_SF4 = count_keys_with_value(alluniversityToCategory, \"SpecialFocus-FourYear-EngineeringAndOtherTechRelatedSchools\")\n",
        "all_count_SF5 = count_keys_with_value(alluniversityToCategory, \"SpecialFocus-FourYear-BusinessAndMgmtSchools\")\n",
        "all_count_SF6 = count_keys_with_value(alluniversityToCategory, \"SpecialFocus-FourYear-LawSchools\")\n",
        "all_count_SF7 = count_keys_with_value(alluniversityToCategory, \"SpecialFocus-FourYear-OtherSpecialFocusInstitutions\")\n",
        "all_count_SF = all_count_SF1 + all_count_SF2 + all_count_SF3 + all_count_SF4 + all_count_SF5 + all_count_SF6 + all_count_SF7\n",
        "\n",
        "print(\"Special Focus : \", all_count_SF)\n",
        "\n",
        "all_count_Tribal = count_keys_with_value(alluniversityToCategory, \"TribalCollegesAndUniversities\")\n",
        "\n",
        "print(\"Tribal : \", all_count_Tribal)\n",
        "\n"
      ],
      "metadata": {
        "colab": {
          "base_uri": "https://localhost:8080/"
        },
        "id": "wOexSYmAwUxB",
        "outputId": "ab85836a-cf1e-4583-9bff-ae75a99a1b15"
      },
      "execution_count": 13,
      "outputs": [
        {
          "output_type": "stream",
          "name": "stdout",
          "text": [
            "Doctoral-R1 :  146\n",
            "Doctoral-R2 :  133\n",
            "Doctoral-D/PU :  184\n",
            "Masters :  662\n",
            "Baccalaureate :  522\n",
            "Baccalaureate/Associates :  199\n",
            "Associates :  625\n",
            "Special Focus :  253\n",
            "Tribal :  35\n"
          ]
        }
      ]
    },
    {
      "cell_type": "markdown",
      "source": [
        "Privacy Content Found"
      ],
      "metadata": {
        "id": "mRhQVruHo9uv"
      }
    },
    {
      "cell_type": "code",
      "source": [
        "privacy_content_count_R1 = count_keys_with_value(privacyUniversityToCategory, \"Doctoral-R1\")\n",
        "print(\"Doctoral-R1 : \", privacy_content_count_R1)\n",
        "privacy_content_count_R2 = count_keys_with_value(privacyUniversityToCategory, \"Doctoral-R2\")\n",
        "print(\"Doctoral-R2 : \", privacy_content_count_R2)\n",
        "privacy_content_count_DPU = count_keys_with_value(privacyUniversityToCategory, \"Doctoral-D/PU\")\n",
        "print(\"Doctoral-D/PU : \", privacy_content_count_DPU)\n",
        "\n",
        "\n",
        "privacy_content_count_M1 = count_keys_with_value(privacyUniversityToCategory, \"MastersCollegesAndUniversities-M1\")\n",
        "privacy_content_count_M2 = count_keys_with_value(privacyUniversityToCategory, \"MastersCollegesAndUniversities-M2\")\n",
        "privacy_content_count_M3 = count_keys_with_value(privacyUniversityToCategory, \"MastersCollegesAndUniversities-M3\")\n",
        "privacy_content_count_M = privacy_content_count_M1 + privacy_content_count_M2 + privacy_content_count_M3\n",
        "\n",
        "print(\"Masters : \", privacy_content_count_M)\n",
        "\n",
        "privacy_content_count_B1 = count_keys_with_value(privacyUniversityToCategory, \"Baccalaureate-ArtsAndSciences\")\n",
        "privacy_content_count_B2 = count_keys_with_value(privacyUniversityToCategory, \"Baccalaureate-DiverseFields\")\n",
        "privacy_content_count_B = privacy_content_count_B1+ privacy_content_count_B2\n",
        "\n",
        "print(\"Baccalaureate : \", privacy_content_count_B)\n",
        "\n",
        "privacy_content_count_BA1 = count_keys_with_value(privacyUniversityToCategory, \"Baccalaureate/Associates-MixedBaccalaureate/Associates\")\n",
        "privacy_content_count_BA2 = count_keys_with_value(privacyUniversityToCategory, \"Baccalaureate/Associates-AssociatesDominant\")\n",
        "privacy_content_count_BA = privacy_content_count_BA1+ privacy_content_count_BA2\n",
        "\n",
        "print(\"Baccalaureate/Associates : \", privacy_content_count_BA)\n",
        "\n",
        "privacy_content_count_A1 = count_keys_with_value(privacyUniversityToCategory, \"Associates-HighTransfer-HighTraditional\")\n",
        "privacy_content_count_A2 = count_keys_with_value(privacyUniversityToCategory, \"Associates-HighTransfer-MixedTraditional/Nontraditional\")\n",
        "privacy_content_count_A3 = count_keys_with_value(privacyUniversityToCategory, \"Associates-HighTransfer-HighNontraditional\")\n",
        "privacy_content_count_A4 = count_keys_with_value(privacyUniversityToCategory, \"Associates-MixedTransfer/Career&Technical-HighTraditional\")\n",
        "privacy_content_count_A5 = count_keys_with_value(privacyUniversityToCategory, \"Associates-MixedTransfer/Career&Technical-MixedTraditional/Nontraditional\")\n",
        "privacy_content_count_A6 = count_keys_with_value(privacyUniversityToCategory, \"Associates-MixedTransfer/Career&Technical-HighNontraditional\")\n",
        "privacy_content_count_A = privacy_content_count_A1+ privacy_content_count_A2 + privacy_content_count_A3 + privacy_content_count_A4 + privacy_content_count_A5 + privacy_content_count_A6\n",
        "print(\"Associates : \", privacy_content_count_A)\n",
        "\n",
        "privacy_content_count_SF1 = count_keys_with_value(privacyUniversityToCategory, \"SpecialFocus-TwoYear-TechProfessions\")\n",
        "privacy_content_count_SF2 = count_keys_with_value(privacyUniversityToCategory, \"SpecialFocus-TwoYear-OtherFields\")\n",
        "privacy_content_count_SF3 = count_keys_with_value(privacyUniversityToCategory, \"SpecialFocus-FourYear-ResearchInstitution\")\n",
        "privacy_content_count_SF4 = count_keys_with_value(privacyUniversityToCategory, \"SpecialFocus-FourYear-EngineeringAndOtherTechRelatedSchools\")\n",
        "privacy_content_count_SF5 = count_keys_with_value(privacyUniversityToCategory, \"SpecialFocus-FourYear-BusinessAndMgmtSchools\")\n",
        "privacy_content_count_SF6 = count_keys_with_value(privacyUniversityToCategory, \"SpecialFocus-FourYear-LawSchools\")\n",
        "privacy_content_count_SF7 = count_keys_with_value(privacyUniversityToCategory, \"SpecialFocus-FourYear-OtherSpecialFocusInstitutions\")\n",
        "privacy_content_count_SF = privacy_content_count_SF1 + privacy_content_count_SF2 + privacy_content_count_SF3 + privacy_content_count_SF4 + privacy_content_count_SF5 + privacy_content_count_SF6 + privacy_content_count_SF7\n",
        "\n",
        "print(\"Special Focus : \", privacy_content_count_SF)\n",
        "\n",
        "privacy_content_count_Tribal = count_keys_with_value(privacyUniversityToCategory, \"TribalCollegesAndUniversities\")\n",
        "\n",
        "print(\"Tribal : \", privacy_content_count_Tribal)\n",
        "\n"
      ],
      "metadata": {
        "colab": {
          "base_uri": "https://localhost:8080/"
        },
        "id": "MKTy1jfHo7vd",
        "outputId": "10391304-32f1-446c-ad82-0f1a446f97d4"
      },
      "execution_count": 14,
      "outputs": [
        {
          "output_type": "stream",
          "name": "stdout",
          "text": [
            "Doctoral-R1 :  77\n",
            "Doctoral-R2 :  57\n",
            "Doctoral-D/PU :  40\n",
            "Masters :  165\n",
            "Baccalaureate :  76\n",
            "Baccalaureate/Associates :  32\n",
            "Associates :  79\n",
            "Special Focus :  15\n",
            "Tribal :  1\n"
          ]
        }
      ]
    },
    {
      "cell_type": "markdown",
      "source": [
        "Privacy content not found"
      ],
      "metadata": {
        "id": "bfauBIFfo_4F"
      }
    },
    {
      "cell_type": "code",
      "source": [
        "no_privacy_content_count_R1 = count_keys_with_value(noPrivacyUniversityToCategory, \"Doctoral-R1\")\n",
        "print(\"Doctoral-R1 : \", no_privacy_content_count_R1)\n",
        "no_privacy_content_count_R2 = count_keys_with_value(noPrivacyUniversityToCategory, \"Doctoral-R2\")\n",
        "print(\"Doctoral-R2 : \", no_privacy_content_count_R2)\n",
        "no_privacy_content_count_DPU = count_keys_with_value(noPrivacyUniversityToCategory, \"Doctoral-D/PU\")\n",
        "print(\"Doctoral-D/PU : \", no_privacy_content_count_DPU)\n",
        "\n",
        "\n",
        "no_privacy_content_count_M1 = count_keys_with_value(noPrivacyUniversityToCategory, \"MastersCollegesAndUniversities-M1\")\n",
        "no_privacy_content_count_M2 = count_keys_with_value(noPrivacyUniversityToCategory, \"MastersCollegesAndUniversities-M2\")\n",
        "no_privacy_content_count_M3 = count_keys_with_value(noPrivacyUniversityToCategory, \"MastersCollegesAndUniversities-M3\")\n",
        "no_privacy_content_count_M = no_privacy_content_count_M1 + no_privacy_content_count_M2 + no_privacy_content_count_M3\n",
        "\n",
        "print(\"Masters : \", no_privacy_content_count_M)\n",
        "\n",
        "no_privacy_content_count_B1 = count_keys_with_value(noPrivacyUniversityToCategory, \"Baccalaureate-ArtsAndSciences\")\n",
        "no_privacy_content_count_B2 = count_keys_with_value(noPrivacyUniversityToCategory, \"Baccalaureate-DiverseFields\")\n",
        "no_privacy_content_count_B = no_privacy_content_count_B1 + no_privacy_content_count_B2\n",
        "\n",
        "print(\"Baccalaureate : \", no_privacy_content_count_B)\n",
        "\n",
        "no_privacy_content_count_BA1 = count_keys_with_value(noPrivacyUniversityToCategory, \"Baccalaureate/Associates-MixedBaccalaureate/Associates\")\n",
        "no_privacy_content_count_BA2 = count_keys_with_value(noPrivacyUniversityToCategory, \"Baccalaureate/Associates-AssociatesDominant\")\n",
        "no_privacy_content_count_BA = no_privacy_content_count_BA1+ no_privacy_content_count_BA2\n",
        "\n",
        "print(\"Baccalaureate/Associates : \", no_privacy_content_count_BA)\n",
        "\n",
        "no_privacy_content_count_A1 = count_keys_with_value(noPrivacyUniversityToCategory, \"Associates-HighTransfer-HighTraditional\")\n",
        "no_privacy_content_count_A2 = count_keys_with_value(noPrivacyUniversityToCategory, \"Associates-HighTransfer-MixedTraditional/Nontraditional\")\n",
        "no_privacy_content_count_A3 = count_keys_with_value(noPrivacyUniversityToCategory, \"Associates-HighTransfer-HighNontraditional\")\n",
        "no_privacy_content_count_A4 = count_keys_with_value(noPrivacyUniversityToCategory, \"Associates-MixedTransfer/Career&Technical-HighTraditional\")\n",
        "no_privacy_content_count_A5 = count_keys_with_value(noPrivacyUniversityToCategory, \"Associates-MixedTransfer/Career&Technical-MixedTraditional/Nontraditional\")\n",
        "no_privacy_content_count_A6 = count_keys_with_value(noPrivacyUniversityToCategory, \"Associates-MixedTransfer/Career&Technical-HighNontraditional\")\n",
        "no_privacy_content_count_A = no_privacy_content_count_A1+ no_privacy_content_count_A2 + no_privacy_content_count_A3 + no_privacy_content_count_A4 + no_privacy_content_count_A5 + no_privacy_content_count_A6\n",
        "\n",
        "print(\"Associates : \", no_privacy_content_count_A)\n",
        "\n",
        "no_privacy_content_count_SF1 = count_keys_with_value(noPrivacyUniversityToCategory, \"SpecialFocus-TwoYear-TechProfessions\")\n",
        "no_privacy_content_count_SF2 = count_keys_with_value(noPrivacyUniversityToCategory, \"SpecialFocus-TwoYear-OtherFields\")\n",
        "no_privacy_content_count_SF3 = count_keys_with_value(noPrivacyUniversityToCategory, \"SpecialFocus-FourYear-ResearchInstitution\")\n",
        "no_privacy_content_count_SF4 = count_keys_with_value(noPrivacyUniversityToCategory, \"SpecialFocus-FourYear-EngineeringAndOtherTechRelatedSchools\")\n",
        "no_privacy_content_count_SF5 = count_keys_with_value(noPrivacyUniversityToCategory, \"SpecialFocus-FourYear-BusinessAndMgmtSchools\")\n",
        "no_privacy_content_count_SF6 = count_keys_with_value(noPrivacyUniversityToCategory, \"SpecialFocus-FourYear-LawSchools\")\n",
        "no_privacy_content_count_SF7 = count_keys_with_value(noPrivacyUniversityToCategory, \"SpecialFocus-FourYear-OtherSpecialFocusInstitutions\")\n",
        "no_privacy_content_SF = no_privacy_content_count_SF1 + no_privacy_content_count_SF2 + no_privacy_content_count_SF3 + no_privacy_content_count_SF4 + no_privacy_content_count_SF5 + no_privacy_content_count_SF6 + no_privacy_content_count_SF7\n",
        "\n",
        "print(\"Special Focus : \", no_privacy_content_SF)\n",
        "\n",
        "no_privacy_content_count_Tribal = count_keys_with_value(noPrivacyUniversityToCategory, \"TribalCollegesAndUniversities\")\n",
        "\n",
        "print(\"Tribal : \", no_privacy_content_count_Tribal)\n",
        "\n"
      ],
      "metadata": {
        "colab": {
          "base_uri": "https://localhost:8080/"
        },
        "id": "5_C34_m4smZw",
        "outputId": "0fd840a1-faeb-42e7-8869-f1321555c185"
      },
      "execution_count": 15,
      "outputs": [
        {
          "output_type": "stream",
          "name": "stdout",
          "text": [
            "Doctoral-R1 :  31\n",
            "Doctoral-R2 :  28\n",
            "Doctoral-D/PU :  62\n",
            "Masters :  196\n",
            "Baccalaureate :  229\n",
            "Baccalaureate/Associates :  83\n",
            "Associates :  261\n",
            "Special Focus :  138\n",
            "Tribal :  18\n"
          ]
        }
      ]
    },
    {
      "cell_type": "markdown",
      "source": [
        "Processing Error"
      ],
      "metadata": {
        "id": "BZZCk4zHqEPO"
      }
    },
    {
      "cell_type": "code",
      "source": [
        "print(\"Doctoral-R1 : \", abs(all_count_R1 - privacy_content_count_R1 - no_privacy_content_count_R1))\n",
        "print(\"Doctoral-R2 : \", abs(all_count_R2 - privacy_content_count_R2 - no_privacy_content_count_R2))\n",
        "print(\"Doctoral-DPU : \", abs(all_count_DPU - privacy_content_count_DPU - no_privacy_content_count_DPU))\n",
        "print(\"Masters : \", abs(all_count_M - privacy_content_count_M - no_privacy_content_count_M))\n",
        "print(\"Baccalaureate : \", abs(all_count_B - privacy_content_count_B - no_privacy_content_count_B))\n",
        "print(\"Baccalaureate/Associates : \", abs(all_count_BA - privacy_content_count_BA - no_privacy_content_count_BA))\n",
        "print(\"Associates : \", abs(all_count_A - privacy_content_count_A - no_privacy_content_count_A))\n",
        "print(\"Special Focus : \", abs(all_count_SF - privacy_content_count_SF - no_privacy_content_SF))\n",
        "print(\"Tribal : \", abs(all_count_Tribal - privacy_content_count_Tribal - no_privacy_content_count_Tribal))\n"
      ],
      "metadata": {
        "colab": {
          "base_uri": "https://localhost:8080/"
        },
        "id": "sGQkhnkGqDg0",
        "outputId": "1a36f6ea-5402-43f6-ddb5-d3204388c925"
      },
      "execution_count": 16,
      "outputs": [
        {
          "output_type": "stream",
          "name": "stdout",
          "text": [
            "Doctoral-R1 :  38\n",
            "Doctoral-R2 :  48\n",
            "Doctoral-DPU :  82\n",
            "Masters :  301\n",
            "Baccalaureate :  217\n",
            "Baccalaureate/Associates :  84\n",
            "Associates :  285\n",
            "Special Focus :  100\n",
            "Tribal :  16\n"
          ]
        }
      ]
    },
    {
      "cell_type": "markdown",
      "source": [
        "Instructor not found"
      ],
      "metadata": {
        "id": "_TTu0hi3t7EV"
      }
    },
    {
      "cell_type": "code",
      "source": [
        "no_instructor_count_R1 = count_keys_with_value(instructor_not_found, \"Doctoral-R1\")\n",
        "print(\"Doctoral-R1 : \", no_instructor_count_R1)\n",
        "no_instructor_count_R2 = count_keys_with_value(instructor_not_found, \"Doctoral-R2\")\n",
        "print(\"Doctoral-R2 : \", no_instructor_count_R2)\n",
        "no_instructor_count_DPU = count_keys_with_value(instructor_not_found, \"Doctoral-D/PU\")\n",
        "print(\"Doctoral-D/PU : \", no_instructor_count_DPU)\n",
        "\n",
        "\n",
        "no_instructor_count_M1 = count_keys_with_value(instructor_not_found, \"MastersCollegesAndUniversities-M1\")\n",
        "no_instructor_count_M2 = count_keys_with_value(instructor_not_found, \"MastersCollegesAndUniversities-M2\")\n",
        "no_instructor_count_M3 = count_keys_with_value(instructor_not_found, \"MastersCollegesAndUniversities-M3\")\n",
        "no_instructor_count_M = no_instructor_count_M1 + no_instructor_count_M2 + no_instructor_count_M3\n",
        "\n",
        "print(\"Masters : \", no_instructor_count_M)\n",
        "\n",
        "no_instructor_count_B1 = count_keys_with_value(instructor_not_found, \"Baccalaureate-ArtsAndSciences\")\n",
        "no_instructor_count_B2 = count_keys_with_value(instructor_not_found, \"Baccalaureate-DiverseFields\")\n",
        "no_instructor_count_B = no_instructor_count_B1+ no_instructor_count_B2\n",
        "print(\"Baccalaureate : \", no_instructor_count_B)\n",
        "\n",
        "no_instructor_count_BA1 = count_keys_with_value(instructor_not_found, \"Baccalaureate/Associates-MixedBaccalaureate/Associates\")\n",
        "no_instructor_count_BA2 = count_keys_with_value(instructor_not_found, \"Baccalaureate/Associates-AssociatesDominant\")\n",
        "no_instructor_count_BA = no_instructor_count_BA1+ no_instructor_count_BA2\n",
        "\n",
        "print(\"Baccalaureate/Associates : \", no_instructor_count_BA)\n",
        "\n",
        "no_instructor_count_A1 = count_keys_with_value(instructor_not_found, \"Associates-HighTransfer-HighTraditional\")\n",
        "no_instructor_count_A2 = count_keys_with_value(instructor_not_found, \"Associates-HighTransfer-MixedTraditional/Nontraditional\")\n",
        "no_instructor_count_A3 = count_keys_with_value(instructor_not_found, \"Associates-HighTransfer-HighNontraditional\")\n",
        "no_instructor_count_A4 = count_keys_with_value(instructor_not_found, \"Associates-MixedTransfer/Career&Technical-HighTraditional\")\n",
        "no_instructor_count_A5 = count_keys_with_value(instructor_not_found, \"Associates-MixedTransfer/Career&Technical-MixedTraditional/Nontraditional\")\n",
        "no_instructor_count_A6 = count_keys_with_value(instructor_not_found, \"Associates-MixedTransfer/Career&Technical-HighNontraditional\")\n",
        "no_instructor_count_A = no_instructor_count_A1 + no_instructor_count_A2 + no_instructor_count_A3 + no_instructor_count_A4 + no_instructor_count_A5 + no_instructor_count_A6\n",
        "\n",
        "print(\"Associates : \", no_instructor_count_A)\n",
        "\n",
        "no_instructor_count_SF1 = count_keys_with_value(instructor_not_found, \"SpecialFocus-TwoYear-TechProfessions\")\n",
        "no_instructor_count_SF2 = count_keys_with_value(instructor_not_found, \"SpecialFocus-TwoYear-OtherFields\")\n",
        "no_instructor_count_SF3 = count_keys_with_value(instructor_not_found, \"SpecialFocus-FourYear-ResearchInstitution\")\n",
        "no_instructor_count_SF4 = count_keys_with_value(instructor_not_found, \"SpecialFocus-FourYear-EngineeringAndOtherTechRelatedSchools\")\n",
        "no_instructor_count_SF5 = count_keys_with_value(instructor_not_found, \"SpecialFocus-FourYear-BusinessAndMgmtSchools\")\n",
        "no_instructor_count_SF6 = count_keys_with_value(instructor_not_found, \"SpecialFocus-FourYear-LawSchools\")\n",
        "no_instructor_count_SF7 = count_keys_with_value(instructor_not_found, \"SpecialFocus-FourYear-OtherSpecialFocusInstitutions\")\n",
        "no_instructor_count_SF = no_instructor_count_SF1 + no_instructor_count_SF2 + no_instructor_count_SF3 + no_instructor_count_SF4 + no_instructor_count_SF5 + no_instructor_count_SF6 + no_instructor_count_SF7\n",
        "print(\"Special Focus : \", no_instructor_count_SF)\n",
        "\n",
        "no_instructor_count_Tribal = count_keys_with_value(instructor_not_found, \"TribalCollegesAndUniversities\")\n",
        "\n",
        "print(\"Tribal : \", no_instructor_count_Tribal)\n",
        "\n"
      ],
      "metadata": {
        "colab": {
          "base_uri": "https://localhost:8080/"
        },
        "id": "V6vpgSvet6Rk",
        "outputId": "58df3d09-7c9f-481b-fd5d-6571606b1bd1"
      },
      "execution_count": 17,
      "outputs": [
        {
          "output_type": "stream",
          "name": "stdout",
          "text": [
            "Doctoral-R1 :  4\n",
            "Doctoral-R2 :  1\n",
            "Doctoral-D/PU :  5\n",
            "Masters :  23\n",
            "Baccalaureate :  8\n",
            "Baccalaureate/Associates :  7\n",
            "Associates :  9\n",
            "Special Focus :  7\n",
            "Tribal :  0\n"
          ]
        }
      ]
    },
    {
      "cell_type": "markdown",
      "source": [
        "Syllabus received"
      ],
      "metadata": {
        "id": "qlcLgQWNucn_"
      }
    },
    {
      "cell_type": "code",
      "source": [
        "syllabus_received_count_R1 = count_keys_with_value(syllabusToCategory, \"Doctoral-R1\")\n",
        "print(\"Doctoral-R1 : \", syllabus_received_count_R1)\n",
        "syllabus_received_count_R2 = count_keys_with_value(syllabusToCategory, \"Doctoral-R2\")\n",
        "print(\"Doctoral-R2 : \", syllabus_received_count_R2)\n",
        "syllabus_received_count_DPU = count_keys_with_value(syllabusToCategory, \"Doctoral-D/PU\")\n",
        "print(\"Doctoral-D/PU : \", syllabus_received_count_DPU)\n",
        "\n",
        "\n",
        "syllabus_received_count_M1 = count_keys_with_value(syllabusToCategory, \"MastersCollegesAndUniversities-M1\")\n",
        "syllabus_received_count_M2 = count_keys_with_value(syllabusToCategory, \"MastersCollegesAndUniversities-M2\")\n",
        "syllabus_received_count_M3 = count_keys_with_value(syllabusToCategory, \"MastersCollegesAndUniversities-M3\")\n",
        "syllabus_received_count_M = syllabus_received_count_M1 + syllabus_received_count_M2 + syllabus_received_count_M3\n",
        "\n",
        "print(\"Masters : \", syllabus_received_count_M)\n",
        "\n",
        "syllabus_received_count_B1 = count_keys_with_value(syllabusToCategory, \"Baccalaureate-ArtsAndSciences\")\n",
        "syllabus_received_count_B2 = count_keys_with_value(syllabusToCategory, \"Baccalaureate-DiverseFields\")\n",
        "syllabus_received_count_B = syllabus_received_count_B1+ syllabus_received_count_B2\n",
        "\n",
        "print(\"Baccalaureate : \", syllabus_received_count_B)\n",
        "\n",
        "syllabus_received_count_BA1 = count_keys_with_value(syllabusToCategory, \"Baccalaureate/Associates-MixedBaccalaureate/Associates\")\n",
        "syllabus_received_count_BA2 = count_keys_with_value(syllabusToCategory, \"Baccalaureate/Associates-AssociatesDominant\")\n",
        "syllabus_received_count_BA = syllabus_received_count_BA1+ syllabus_received_count_BA2\n",
        "\n",
        "print(\"Baccalaureate/Associates : \", syllabus_received_count_BA)\n",
        "\n",
        "syllabus_received_count_A1 = count_keys_with_value(syllabusToCategory, \"Associates-HighTransfer-HighTraditional\")\n",
        "syllabus_received_count_A2 = count_keys_with_value(syllabusToCategory, \"Associates-HighTransfer-MixedTraditional/Nontraditional\")\n",
        "syllabus_received_count_A3 = count_keys_with_value(syllabusToCategory, \"Associates-HighTransfer-HighNontraditional\")\n",
        "syllabus_received_count_A4 = count_keys_with_value(syllabusToCategory, \"Associates-MixedTransfer/Career&Technical-HighTraditional\")\n",
        "syllabus_received_count_A5 = count_keys_with_value(syllabusToCategory, \"Associates-MixedTransfer/Career&Technical-MixedTraditional/Nontraditional\")\n",
        "syllabus_received_count_A6 = count_keys_with_value(syllabusToCategory, \"Associates-MixedTransfer/Career&Technical-HighNontraditional\")\n",
        "syllabus_received_count_A = syllabus_received_count_A1+ syllabus_received_count_A2 + syllabus_received_count_A3 + syllabus_received_count_A4 + syllabus_received_count_A5 + syllabus_received_count_A6\n",
        "\n",
        "print(\"Associates : \", syllabus_received_count_A)\n",
        "\n",
        "syllabus_received_count_SF1 = count_keys_with_value(syllabusToCategory, \"SpecialFocus-TwoYear-TechProfessions\")\n",
        "syllabus_received_count_SF2 = count_keys_with_value(syllabusToCategory, \"SpecialFocus-TwoYear-OtherFields\")\n",
        "syllabus_received_count_SF3 = count_keys_with_value(syllabusToCategory, \"SpecialFocus-FourYear-ResearchInstitution\")\n",
        "syllabus_received_count_SF4 = count_keys_with_value(syllabusToCategory, \"SpecialFocus-FourYear-EngineeringAndOtherTechRelatedSchools\")\n",
        "syllabus_received_count_SF5 = count_keys_with_value(syllabusToCategory, \"SpecialFocus-FourYear-BusinessAndMgmtSchools\")\n",
        "syllabus_received_count_SF6 = count_keys_with_value(syllabusToCategory, \"SpecialFocus-FourYear-LawSchools\")\n",
        "syllabus_received_count_SF7 = count_keys_with_value(syllabusToCategory, \"SpecialFocus-FourYear-OtherSpecialFocusInstitutions\")\n",
        "syllabus_received_count_SF = syllabus_received_count_SF1 + syllabus_received_count_SF2 + syllabus_received_count_SF3 + syllabus_received_count_SF4 + syllabus_received_count_SF5 + syllabus_received_count_SF6 + syllabus_received_count_SF7\n",
        "\n",
        "print(\"Special Focus : \", syllabus_received_count_SF)\n",
        "\n",
        "syllabus_received_count_Tribal = count_keys_with_value(syllabusToCategory, \"TribalCollegesAndUniversities\")\n",
        "\n",
        "print(\"Tribal : \", syllabus_received_count_Tribal)\n",
        "\n"
      ],
      "metadata": {
        "colab": {
          "base_uri": "https://localhost:8080/"
        },
        "id": "luWZQtzAuaqg",
        "outputId": "c612f96e-9b89-4455-91cf-ea7907cd2f9f"
      },
      "execution_count": 18,
      "outputs": [
        {
          "output_type": "stream",
          "name": "stdout",
          "text": [
            "Doctoral-R1 :  30\n",
            "Doctoral-R2 :  20\n",
            "Doctoral-D/PU :  5\n",
            "Masters :  22\n",
            "Baccalaureate :  14\n",
            "Baccalaureate/Associates :  1\n",
            "Associates :  2\n",
            "Special Focus :  1\n",
            "Tribal :  0\n"
          ]
        }
      ]
    },
    {
      "cell_type": "markdown",
      "source": [
        "No instructor response"
      ],
      "metadata": {
        "id": "Fn6nnJNIty7h"
      }
    },
    {
      "cell_type": "code",
      "source": [
        "print(\"Doctoral-R1 : \", privacy_content_count_R1 - no_instructor_count_R1 - syllabus_received_count_R1)\n",
        "print(\"Doctoral-R2 : \", privacy_content_count_R2 -no_instructor_count_R2 - syllabus_received_count_R2)\n",
        "print(\"Doctoral-DPU : \", privacy_content_count_DPU -no_instructor_count_DPU - syllabus_received_count_DPU)\n",
        "print(\"Masters : \", privacy_content_count_M - no_instructor_count_M - syllabus_received_count_M)\n",
        "print(\"Baccalaureate : \", privacy_content_count_B - no_instructor_count_B - syllabus_received_count_B)\n",
        "print(\"Baccalaureate/Associates : \", privacy_content_count_BA - no_instructor_count_BA - syllabus_received_count_BA)\n",
        "print(\"Associates : \", privacy_content_count_A - no_instructor_count_A - syllabus_received_count_A)\n",
        "print(\"Special Focus : \", privacy_content_count_SF - no_instructor_count_SF - syllabus_received_count_SF)\n",
        "print(\"Tribal : \", privacy_content_count_Tribal - no_instructor_count_Tribal - syllabus_received_count_Tribal)\n"
      ],
      "metadata": {
        "colab": {
          "base_uri": "https://localhost:8080/"
        },
        "id": "FauV7vgmt1zt",
        "outputId": "a7b4851d-808e-4f22-944d-ad72d27b1494"
      },
      "execution_count": 19,
      "outputs": [
        {
          "output_type": "stream",
          "name": "stdout",
          "text": [
            "Doctoral-R1 :  43\n",
            "Doctoral-R2 :  36\n",
            "Doctoral-DPU :  30\n",
            "Masters :  120\n",
            "Baccalaureate :  54\n",
            "Baccalaureate/Associates :  24\n",
            "Associates :  68\n",
            "Special Focus :  7\n",
            "Tribal :  1\n"
          ]
        }
      ]
    },
    {
      "cell_type": "code",
      "source": [
        "universitiesWithPrivacyInTitle = {}\n",
        "\n",
        "for i, row in syllabus_data.iterrows():\n",
        "  title = row[\"Title\"].strip().lower()\n",
        "  try:\n",
        "    if(\"privacy\" in title):\n",
        "     universitiesWithPrivacyInTitle[row[\"University\"].strip()] = alluniversityToCategory[row[\"University\"].strip()]\n",
        "  except KeyError:\n",
        "    print(row[\"University\"])"
      ],
      "metadata": {
        "id": "Gpzin_YX1wJO"
      },
      "execution_count": 20,
      "outputs": []
    },
    {
      "cell_type": "code",
      "source": [
        "print(\"No of universities with privacy in title = \", len(universitiesWithPrivacyInTitle.keys()))"
      ],
      "metadata": {
        "colab": {
          "base_uri": "https://localhost:8080/"
        },
        "id": "JO_xgYIy2dLS",
        "outputId": "ce0d345d-b1b8-4831-e741-fcde92159e9e"
      },
      "execution_count": 21,
      "outputs": [
        {
          "output_type": "stream",
          "name": "stdout",
          "text": [
            "No of universities with privacy in title =  17\n"
          ]
        }
      ]
    },
    {
      "cell_type": "markdown",
      "source": [
        "Privacy in course title"
      ],
      "metadata": {
        "id": "eU4292wd3Vg7"
      }
    },
    {
      "cell_type": "code",
      "source": [
        "privacy_title_count_R1 = count_keys_with_value(universitiesWithPrivacyInTitle, \"Doctoral-R1\")\n",
        "print(\"Doctoral-R1 : \", privacy_title_count_R1)\n",
        "privacy_title_count_R2 = count_keys_with_value(universitiesWithPrivacyInTitle, \"Doctoral-R2\")\n",
        "print(\"Doctoral-R2 : \", privacy_title_count_R2)\n",
        "privacy_title_count_DPU = count_keys_with_value(universitiesWithPrivacyInTitle, \"Doctoral-D/PU\")\n",
        "print(\"Doctoral-D/PU : \", privacy_title_count_DPU)\n",
        "\n",
        "\n",
        "privacy_title_count_M1 = count_keys_with_value(universitiesWithPrivacyInTitle, \"MastersCollegesAndUniversities-M1\")\n",
        "privacy_title_count_M2 = count_keys_with_value(universitiesWithPrivacyInTitle, \"MastersCollegesAndUniversities-M2\")\n",
        "privacy_title_count_M3 = count_keys_with_value(universitiesWithPrivacyInTitle, \"MastersCollegesAndUniversities-M3\")\n",
        "privacy_title_count_M = privacy_title_count_M1 + privacy_title_count_M2 + privacy_title_count_M3\n",
        "\n",
        "print(\"Masters : \", privacy_title_count_M)\n",
        "\n",
        "privacy_title_count_B1 = count_keys_with_value(universitiesWithPrivacyInTitle, \"Baccalaureate-ArtsAndSciences\")\n",
        "privacy_title_count_B2 = count_keys_with_value(universitiesWithPrivacyInTitle, \"Baccalaureate-DiverseFields\")\n",
        "privacy_title_count_B = privacy_title_count_B1+ privacy_title_count_B2\n",
        "\n",
        "print(\"Baccalaureate : \", privacy_title_count_B)\n",
        "\n",
        "privacy_title_count_BA1 = count_keys_with_value(universitiesWithPrivacyInTitle, \"Baccalaureate/Associates-MixedBaccalaureate/Associates\")\n",
        "privacy_title_count_BA2 = count_keys_with_value(universitiesWithPrivacyInTitle, \"Baccalaureate/Associates-AssociatesDominant\")\n",
        "privacy_title_count_BA = privacy_title_count_BA1+ privacy_title_count_BA2\n",
        "\n",
        "print(\"Baccalaureate/Associates : \", privacy_title_count_BA)\n",
        "\n",
        "privacy_title_count_A1 = count_keys_with_value(universitiesWithPrivacyInTitle, \"Associates-HighTransfer-HighTraditional\")\n",
        "privacy_title_count_A2 = count_keys_with_value(universitiesWithPrivacyInTitle, \"Associates-HighTransfer-MixedTraditional/Nontraditional\")\n",
        "privacy_title_count_A3 = count_keys_with_value(universitiesWithPrivacyInTitle, \"Associates-HighTransfer-HighNontraditional\")\n",
        "privacy_title_count_A4 = count_keys_with_value(universitiesWithPrivacyInTitle, \"Associates-MixedTransfer/Career&Technical-HighTraditional\")\n",
        "privacy_title_count_A5 = count_keys_with_value(universitiesWithPrivacyInTitle, \"Associates-MixedTransfer/Career&Technical-MixedTraditional/Nontraditional\")\n",
        "privacy_title_count_A6 = count_keys_with_value(universitiesWithPrivacyInTitle, \"Associates-MixedTransfer/Career&Technical-HighNontraditional\")\n",
        "privacy_title_count_A = privacy_title_count_A1+ privacy_title_count_A2 + privacy_title_count_A3 + privacy_title_count_A4 + privacy_title_count_A5 + privacy_title_count_A6\n",
        "\n",
        "print(\"Associates : \", privacy_title_count_A)\n",
        "\n",
        "privacy_title_count_SF1 = count_keys_with_value(universitiesWithPrivacyInTitle, \"SpecialFocus-TwoYear-TechProfessions\")\n",
        "privacy_title_count_SF2 = count_keys_with_value(universitiesWithPrivacyInTitle, \"SpecialFocus-TwoYear-OtherFields\")\n",
        "privacy_title_count_SF3 = count_keys_with_value(universitiesWithPrivacyInTitle, \"SpecialFocus-FourYear-ResearchInstitution\")\n",
        "privacy_title_count_SF4 = count_keys_with_value(universitiesWithPrivacyInTitle, \"SpecialFocus-FourYear-EngineeringAndOtherTechRelatedSchools\")\n",
        "privacy_title_count_SF5 = count_keys_with_value(universitiesWithPrivacyInTitle, \"SpecialFocus-FourYear-BusinessAndMgmtSchools\")\n",
        "privacy_title_count_SF6 = count_keys_with_value(universitiesWithPrivacyInTitle, \"SpecialFocus-FourYear-LawSchools\")\n",
        "privacy_title_count_SF7 = count_keys_with_value(universitiesWithPrivacyInTitle, \"SpecialFocus-FourYear-OtherSpecialFocusInstitutions\")\n",
        "privacy_title_count_SF = privacy_title_count_SF1 + privacy_title_count_SF2 + privacy_title_count_SF3 + privacy_title_count_SF4 + privacy_title_count_SF5 + privacy_title_count_SF6 + privacy_title_count_SF7\n",
        "\n",
        "print(\"Special Focus : \", privacy_title_count_SF)\n",
        "\n",
        "privacy_title_count_Tribal = count_keys_with_value(universitiesWithPrivacyInTitle, \"TribalCollegesAndUniversities\")\n",
        "\n",
        "print(\"Tribal : \", privacy_title_count_Tribal)\n",
        "\n"
      ],
      "metadata": {
        "colab": {
          "base_uri": "https://localhost:8080/"
        },
        "id": "6IHeoTl23XGr",
        "outputId": "e21024f7-021f-43b6-bbdc-c1f915e7cacd"
      },
      "execution_count": 22,
      "outputs": [
        {
          "output_type": "stream",
          "name": "stdout",
          "text": [
            "Doctoral-R1 :  9\n",
            "Doctoral-R2 :  3\n",
            "Doctoral-D/PU :  0\n",
            "Masters :  1\n",
            "Baccalaureate :  4\n",
            "Baccalaureate/Associates :  0\n",
            "Associates :  0\n",
            "Special Focus :  0\n",
            "Tribal :  0\n"
          ]
        }
      ]
    },
    {
      "cell_type": "code",
      "source": [
        "from collections import defaultdict\n",
        "categoryToNumClasses = defaultdict(int)\n",
        "categoryToCount = defaultdict(int)\n",
        "syllabus_data = pd.read_csv(\"/content/SyllabusData.csv\")\n",
        "\n",
        "for i, row in syllabus_data.iterrows():\n",
        "  try:\n",
        "    categoryToCount[row[\"University Type\"].strip()] = 1 + categoryToCount[row[\"University Type\"].strip()]\n",
        "    classes = row[\"No of classes covering privacy\"]\n",
        "    if(classes == \"-\"):\n",
        "      continue\n",
        "    else:\n",
        "      classes = int(classes)\n",
        "    categoryToNumClasses[row[\"University Type\"].strip()] += classes\n",
        "  except ValueError:\n",
        "    print(i, row)"
      ],
      "metadata": {
        "id": "5BPpAjhvC6Rx"
      },
      "execution_count": 23,
      "outputs": []
    },
    {
      "cell_type": "code",
      "source": [
        "# print(categoryToCount)"
      ],
      "metadata": {
        "id": "Y5cTfOdPEDtX"
      },
      "execution_count": 24,
      "outputs": []
    },
    {
      "cell_type": "code",
      "source": [
        "# print(categoryToNumClasses)"
      ],
      "metadata": {
        "id": "yEwjcFwKEGeL"
      },
      "execution_count": 25,
      "outputs": []
    },
    {
      "cell_type": "code",
      "source": [
        "print(\"Avg # of classes:\")\n",
        "print(\"Doctoral-R1 : \", categoryToNumClasses[\"Doctoral-R1\"]/categoryToCount[\"Doctoral-R1\"])\n",
        "print(\"Doctoral-R2 : \", categoryToNumClasses[\"Doctoral-R2\"]/categoryToCount[\"Doctoral-R2\"])\n",
        "print(\"Doctoral-D/PU : \", categoryToNumClasses[\"Doctoral-D/PU\"]/categoryToCount[\"Doctoral-D/PU\"])\n",
        "\n",
        "print(\"Masters : \", (categoryToNumClasses[\"MastersCollegesAndUniversities-M1\"]\n",
        "                     + categoryToNumClasses[\"MastersCollegesAndUniversities-M2\"]\n",
        "                     + categoryToNumClasses[\"MastersCollegesAndUniversities-M3\"])/(\n",
        "                         categoryToCount[\"MastersCollegesAndUniversities-M1\"]\n",
        "                         + categoryToCount[\"MastersCollegesAndUniversities-M2\"]\n",
        "                         + categoryToCount[\"MastersCollegesAndUniversities-M3\"]))\n",
        "\n",
        "print(\"Baccalaureate : \", (categoryToNumClasses[\"Baccalaureate-ArtsAndSciences\"]\n",
        "                           + categoryToNumClasses[\"Baccalaureate-DiverseFields\"])/ (\n",
        "                               (categoryToCount[\"Baccalaureate-ArtsAndSciences\"]\n",
        "                                + categoryToCount[\"Baccalaureate-DiverseFields\"])\n",
        "                           ))\n",
        "\n",
        "print(\"Associates : \", (categoryToNumClasses[\"Associates-HighTransfer-HighTraditional\"]\n",
        "                           + categoryToNumClasses[\"Associates-MixedTransfer/Career&Technical-MixedTraditional/Nontraditional\"])/ (\n",
        "                               (categoryToCount[\"Associates-HighTransfer-HighTraditional\"]\n",
        "                                + categoryToCount[\"Associates-MixedTransfer/Career&Technical-MixedTraditional/Nontraditional\"])\n",
        "                           ))\n",
        "\n",
        "print(\"SpecialFocus : \", (categoryToNumClasses[\"SpecialFocus-FourYear-EngineeringAndOtherTechRelatedSchools\"])/ (categoryToCount[\"SpecialFocus-FourYear-EngineeringAndOtherTechRelatedSchools\"]))\n",
        "\n"
      ],
      "metadata": {
        "colab": {
          "base_uri": "https://localhost:8080/"
        },
        "id": "gm-T7ITFEdSg",
        "outputId": "8556647a-bc89-4835-ee1b-6783c6b2c9e3"
      },
      "execution_count": 26,
      "outputs": [
        {
          "output_type": "stream",
          "name": "stdout",
          "text": [
            "Avg # of classes:\n",
            "Doctoral-R1 :  2.9615384615384617\n",
            "Doctoral-R2 :  1.1923076923076923\n",
            "Doctoral-D/PU :  0.5714285714285714\n",
            "Masters :  1.28\n",
            "Baccalaureate :  1.4\n",
            "Associates :  0.0\n",
            "SpecialFocus :  0.0\n"
          ]
        }
      ]
    }
  ]
}